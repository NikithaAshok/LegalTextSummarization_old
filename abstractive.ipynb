{
 "cells": [
  {
   "cell_type": "code",
   "execution_count": 3,
   "id": "67b5605e",
   "metadata": {},
   "outputs": [
    {
     "name": "stderr",
     "output_type": "stream",
     "text": [
      "[nltk_data] Downloading package punkt to\n",
      "[nltk_data]     C:\\Users\\krithika\\AppData\\Roaming\\nltk_data...\n",
      "[nltk_data]   Package punkt is already up-to-date!\n",
      "[nltk_data] Downloading package stopwords to\n",
      "[nltk_data]     C:\\Users\\krithika\\AppData\\Roaming\\nltk_data...\n",
      "[nltk_data]   Package stopwords is already up-to-date!\n",
      "Truncation was not explicitly activated but `max_length` is provided a specific value, please use `truncation=True` to explicitly truncate examples to max length. Defaulting to 'longest_first' truncation strategy. If you encode pairs of sequences (GLUE-style) with the tokenizer you can select this strategy more precisely by providing a specific strategy to `truncation`.\n",
      "C:\\Users\\krithika\\anaconda3\\lib\\site-packages\\transformers\\generation\\utils.py:1273: UserWarning: Neither `max_length` nor `max_new_tokens` has been set, `max_length` will default to 20 (`generation_config.max_length`). Controlling `max_length` via the config is deprecated and `max_length` will be removed from the config in v5 of Transformers -- we recommend using `max_new_tokens` to control the maximum length of the generation.\n",
      "  warnings.warn(\n"
     ]
    },
    {
     "name": "stdout",
     "output_type": "stream",
     "text": [
      "<pad>the focus of legal argument mining is the argumentativ e elements of a legal text\n"
     ]
    }
   ],
   "source": [
    "#T5 is an encoder-decoder model. Converts all language problems into text-to-text format.\n",
    "\n",
    "from transformers import T5Tokenizer, T5Config, T5ForConditionalGeneration\n",
    "import PyPDF2\n",
    "from PyPDF2 import PdfReader\n",
    "import nltk\n",
    "nltk.download('punkt')\n",
    "from nltk.corpus import stopwords\n",
    "from nltk.tokenize import sent_tokenize\n",
    "import string\n",
    "\n",
    "#creating a pdf file object\n",
    "pdf = open(\"C://Users//krithika//Downloads//example.pdf\",\"rb\")\n",
    "\n",
    "#creating a pdf reader object\n",
    "pdf_reader = PyPDF2.PdfReader(pdf)\n",
    "\n",
    "#checking number of pages in a pdf file\n",
    "#print(\"Number of pages in the pdf \",len(pdf_reader.pages))\n",
    "\n",
    "nltk.download('stopwords')\n",
    "stop_words = set(stopwords.words('english'))\n",
    "\n",
    "\n",
    "#stemming tokens \n",
    "\n",
    "#function for tokenization and removing stopwords\n",
    "def remove_stop_words(text):\n",
    "    punct_removed_text = text.translate(str.maketrans('','',string.punctuation))\n",
    "    words = nltk.word_tokenize(punct_removed_text)\n",
    "    words = [word for word in words if word.lower() not in stop_words]\n",
    "    return \" \".join(words)\n",
    "\n",
    "\n",
    "#function for stemming\n",
    "def stemming(text):\n",
    "    tokens = text.split(' ')\n",
    "\n",
    "    #defining a Stemmer\n",
    "    stemmer = PorterStemmer()\n",
    "\n",
    "    #stem the tokens \n",
    "    stemmed_tokens = []\n",
    "\n",
    "\n",
    "    for token in tokens:\n",
    "        stemmed_token = stemmer.stem(token)\n",
    "        stemmed_tokens.append(stemmed_token)\n",
    "\n",
    "    #join the stemmed tokens back into a string\n",
    "    stemmed_text = ' '.join(stemmed_tokens)\n",
    "\n",
    "    return stemmed_text\n",
    "\n",
    "#instantiating the model and tokenizer\n",
    "my_model = T5ForConditionalGeneration.from_pretrained('t5-base')\n",
    "tokenizer = T5Tokenizer.from_pretrained('t5-base')\n",
    "\n",
    "\n",
    "for i in range(0,len(pdf_reader.pages)):\n",
    "    page = pdf_reader.pages[i]\n",
    "    extracted_text = page.extract_text() # extraction happens here\n",
    "    text_without_stopwords = remove_stop_words(extracted_text) #removing stopwords (function called)\n",
    "    sentences = sent_tokenize(extracted_text)\n",
    "    text = \"summarize:\" + extracted_text\n",
    "\n",
    "    #T5 MODEL -----------\n",
    "    #converting input sequence to input-ids through process of encoding - encode()\n",
    "    input_ids = tokenizer.encode(text,return_tensors='pt',max_length=512)\n",
    "    #generate() method returns a sequence of ids corresponding to the summary\n",
    "    summary_ids = my_model.generate(input_ids)\n",
    "    #using decode() function to generate summary text from the above ids\n",
    "    t5_summary = tokenizer.decode(summary_ids[0])\n",
    "    print(t5_summary)"
   ]
  },
  {
   "cell_type": "code",
   "execution_count": null,
   "id": "04bae58c",
   "metadata": {},
   "outputs": [],
   "source": []
  }
 ],
 "metadata": {
  "kernelspec": {
   "display_name": "Python 3 (ipykernel)",
   "language": "python",
   "name": "python3"
  },
  "language_info": {
   "codemirror_mode": {
    "name": "ipython",
    "version": 3
   },
   "file_extension": ".py",
   "mimetype": "text/x-python",
   "name": "python",
   "nbconvert_exporter": "python",
   "pygments_lexer": "ipython3",
   "version": "3.9.12"
  }
 },
 "nbformat": 4,
 "nbformat_minor": 5
}
