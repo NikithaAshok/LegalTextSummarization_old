#Methods are : TF-IDF, 
import sys
#from BART_utilities import *
sys.path.insert(0,'../')
#from utilities import *

import transformers
import pandas as pd
import numpy as np
import glob
import nltk
#import torch
import math
import random
import re
import argparse
import os

#loading the model and tokenizer
from transformers import BartConfig, BartModel

#Initializing a BART facebook/bart-large style configuration
configuration = BartConfig()

#Initializing a model from facebook/bart-large style configuration
model = BartModel(configuration)

#Accessing the model configuration
configuration = model.config


#model = BartForConditionalGeneration.from_pretrained('facebook/bart-large')

#tokenizer = BartTokenizer.from_pretrained('facebook/bart-large',add_prefix_space=True)
